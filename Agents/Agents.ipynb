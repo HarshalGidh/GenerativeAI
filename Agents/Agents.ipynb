{
  "nbformat": 4,
  "nbformat_minor": 0,
  "metadata": {
    "colab": {
      "provenance": []
    },
    "kernelspec": {
      "name": "python3",
      "display_name": "Python 3"
    },
    "language_info": {
      "name": "python"
    }
  },
  "cells": [
    {
      "cell_type": "markdown",
      "source": [
        "# Agents and Tools\n",
        "\n",
        "Agents involve an LLM making decisions about which Actions to take, taking that Action, seeing an Observation, and repeating that until done.\n",
        "\n",
        "\n",
        "When used correctly agents can be extremely powerful. In order to load agents, you should understand the following concepts:\n",
        "\n",
        "- Tool: A function that performs a specific duty. This can be things like: Google Search, Database lookup, Python REPL, other chains.\n",
        "- LLM: The language model powering the agent.\n",
        "- Agent: The agent to use.\n"
      ],
      "metadata": {
        "id": "cKIei5hNci1E"
      }
    },
    {
      "cell_type": "markdown",
      "source": [
        "For example I have to travel from Dubai to Canada, I type this in ChatGPT\n",
        "\n",
        "Give me two flight options from Dubai to Canada on September 1, 2024 | ChatGPT will not be able to answer because has knowledge till\n",
        "September 2021\n",
        "\n",
        "ChatGPT plus has Expedia Plugin, if we enable this plugin it will go to Expedia Plugin and will try to pull information about Flights & it will show the information"
      ],
      "metadata": {
        "id": "G4U4PWTkdPxX"
      }
    },
    {
      "cell_type": "markdown",
      "source": [
        "When we think about LLM. Many people think that it is just a knowledge engine, it has knowledge and it will try to give answer based on that knowledge but the knowledge is only limited to September 2021. The think that most people missout is that Large Lanaguage Model has a reasoning engine, and using that reasoning engine it can figure out when someone types this type of Question\n",
        "\n",
        "\n",
        "Give me  two flight options from Dubai to Canada on September 1, 2024\n",
        "\n",
        "\n",
        "As a human we go to Expedia as we have a reasoning engine in our brain.\n",
        "\n",
        "LLM has a reasoning engine as well, so it will figure out the Source, Destination, Date and it will call Expedia Plugin and it will return response back."
      ],
      "metadata": {
        "id": "ciLN5bFed6Xx"
      }
    },
    {
      "cell_type": "markdown",
      "source": [
        "#**How much is US GDP in 2024? plus 5**\n"
      ],
      "metadata": {
        "id": "43YM_ip-eYhu"
      }
    },
    {
      "cell_type": "markdown",
      "source": [
        "# Agent will conenct with external tools and it will use LLM reasoning capabilities"
      ],
      "metadata": {
        "id": "iD2IcVHEelhs"
      }
    },
    {
      "cell_type": "markdown",
      "source": [
        "# To access Google Search Results in Real Time we use serpapi"
      ],
      "metadata": {
        "id": "GemVEsOWetK3"
      }
    },
    {
      "cell_type": "markdown",
      "source": [
        "# serpapi and llm-math tool"
      ],
      "metadata": {
        "id": "9vNfiY0BezFn"
      }
    },
    {
      "cell_type": "code",
      "source": [
        "!pip install google-search-results"
      ],
      "metadata": {
        "colab": {
          "base_uri": "https://localhost:8080/"
        },
        "id": "SPbtEBhAclBj",
        "outputId": "f95cf17c-9c82-4bd6-8acf-3d17e14f46ac"
      },
      "execution_count": null,
      "outputs": [
        {
          "output_type": "stream",
          "name": "stdout",
          "text": [
            "Collecting google-search-results\n",
            "  Downloading google_search_results-2.4.2.tar.gz (18 kB)\n",
            "  Preparing metadata (setup.py) ... \u001b[?25l\u001b[?25hdone\n",
            "Requirement already satisfied: requests in /usr/local/lib/python3.10/dist-packages (from google-search-results) (2.31.0)\n",
            "Requirement already satisfied: charset-normalizer<4,>=2 in /usr/local/lib/python3.10/dist-packages (from requests->google-search-results) (3.3.2)\n",
            "Requirement already satisfied: idna<4,>=2.5 in /usr/local/lib/python3.10/dist-packages (from requests->google-search-results) (3.7)\n",
            "Requirement already satisfied: urllib3<3,>=1.21.1 in /usr/local/lib/python3.10/dist-packages (from requests->google-search-results) (2.0.7)\n",
            "Requirement already satisfied: certifi>=2017.4.17 in /usr/local/lib/python3.10/dist-packages (from requests->google-search-results) (2024.6.2)\n",
            "Building wheels for collected packages: google-search-results\n",
            "  Building wheel for google-search-results (setup.py) ... \u001b[?25l\u001b[?25hdone\n",
            "  Created wheel for google-search-results: filename=google_search_results-2.4.2-py3-none-any.whl size=32004 sha256=01c8d4136f0787aeba3d27fb3794d52b87ae8ab9cd6211ea9ec550b4f43ae9b2\n",
            "  Stored in directory: /root/.cache/pip/wheels/d3/b2/c3/03302d12bb44a2cdff3c9371f31b72c0c4e84b8d2285eeac53\n",
            "Successfully built google-search-results\n",
            "Installing collected packages: google-search-results\n",
            "Successfully installed google-search-results-2.4.2\n"
          ]
        }
      ]
    },
    {
      "cell_type": "code",
      "source": [
        "!pip install langchain"
      ],
      "metadata": {
        "colab": {
          "base_uri": "https://localhost:8080/"
        },
        "id": "VBQywOfvg0yE",
        "outputId": "d2e99925-7d31-4a8e-b2be-3e6ba959ae96"
      },
      "execution_count": null,
      "outputs": [
        {
          "output_type": "stream",
          "name": "stdout",
          "text": [
            "Collecting langchain\n",
            "  Downloading langchain-0.2.5-py3-none-any.whl (974 kB)\n",
            "\u001b[2K     \u001b[90m━━━━━━━━━━━━━━━━━━━━━━━━━━━━━━━━━━━━━━━━\u001b[0m \u001b[32m974.6/974.6 kB\u001b[0m \u001b[31m12.7 MB/s\u001b[0m eta \u001b[36m0:00:00\u001b[0m\n",
            "\u001b[?25hRequirement already satisfied: PyYAML>=5.3 in /usr/local/lib/python3.10/dist-packages (from langchain) (6.0.1)\n",
            "Requirement already satisfied: SQLAlchemy<3,>=1.4 in /usr/local/lib/python3.10/dist-packages (from langchain) (2.0.30)\n",
            "Requirement already satisfied: aiohttp<4.0.0,>=3.8.3 in /usr/local/lib/python3.10/dist-packages (from langchain) (3.9.5)\n",
            "Requirement already satisfied: async-timeout<5.0.0,>=4.0.0 in /usr/local/lib/python3.10/dist-packages (from langchain) (4.0.3)\n",
            "Collecting langchain-core<0.3.0,>=0.2.7 (from langchain)\n",
            "  Downloading langchain_core-0.2.9-py3-none-any.whl (321 kB)\n",
            "\u001b[2K     \u001b[90m━━━━━━━━━━━━━━━━━━━━━━━━━━━━━━━━━━━━━━━━\u001b[0m \u001b[32m321.8/321.8 kB\u001b[0m \u001b[31m24.0 MB/s\u001b[0m eta \u001b[36m0:00:00\u001b[0m\n",
            "\u001b[?25hCollecting langchain-text-splitters<0.3.0,>=0.2.0 (from langchain)\n",
            "  Downloading langchain_text_splitters-0.2.1-py3-none-any.whl (23 kB)\n",
            "Collecting langsmith<0.2.0,>=0.1.17 (from langchain)\n",
            "  Downloading langsmith-0.1.81-py3-none-any.whl (127 kB)\n",
            "\u001b[2K     \u001b[90m━━━━━━━━━━━━━━━━━━━━━━━━━━━━━━━━━━━━━━━━\u001b[0m \u001b[32m127.1/127.1 kB\u001b[0m \u001b[31m14.2 MB/s\u001b[0m eta \u001b[36m0:00:00\u001b[0m\n",
            "\u001b[?25hRequirement already satisfied: numpy<2,>=1 in /usr/local/lib/python3.10/dist-packages (from langchain) (1.25.2)\n",
            "Requirement already satisfied: pydantic<3,>=1 in /usr/local/lib/python3.10/dist-packages (from langchain) (2.7.4)\n",
            "Requirement already satisfied: requests<3,>=2 in /usr/local/lib/python3.10/dist-packages (from langchain) (2.31.0)\n",
            "Requirement already satisfied: tenacity<9.0.0,>=8.1.0 in /usr/local/lib/python3.10/dist-packages (from langchain) (8.4.1)\n",
            "Requirement already satisfied: aiosignal>=1.1.2 in /usr/local/lib/python3.10/dist-packages (from aiohttp<4.0.0,>=3.8.3->langchain) (1.3.1)\n",
            "Requirement already satisfied: attrs>=17.3.0 in /usr/local/lib/python3.10/dist-packages (from aiohttp<4.0.0,>=3.8.3->langchain) (23.2.0)\n",
            "Requirement already satisfied: frozenlist>=1.1.1 in /usr/local/lib/python3.10/dist-packages (from aiohttp<4.0.0,>=3.8.3->langchain) (1.4.1)\n",
            "Requirement already satisfied: multidict<7.0,>=4.5 in /usr/local/lib/python3.10/dist-packages (from aiohttp<4.0.0,>=3.8.3->langchain) (6.0.5)\n",
            "Requirement already satisfied: yarl<2.0,>=1.0 in /usr/local/lib/python3.10/dist-packages (from aiohttp<4.0.0,>=3.8.3->langchain) (1.9.4)\n",
            "Collecting jsonpatch<2.0,>=1.33 (from langchain-core<0.3.0,>=0.2.7->langchain)\n",
            "  Downloading jsonpatch-1.33-py2.py3-none-any.whl (12 kB)\n",
            "Requirement already satisfied: packaging<25,>=23.2 in /usr/local/lib/python3.10/dist-packages (from langchain-core<0.3.0,>=0.2.7->langchain) (24.1)\n",
            "Collecting orjson<4.0.0,>=3.9.14 (from langsmith<0.2.0,>=0.1.17->langchain)\n",
            "  Downloading orjson-3.10.5-cp310-cp310-manylinux_2_17_x86_64.manylinux2014_x86_64.whl (144 kB)\n",
            "\u001b[2K     \u001b[90m━━━━━━━━━━━━━━━━━━━━━━━━━━━━━━━━━━━━━━━━\u001b[0m \u001b[32m145.0/145.0 kB\u001b[0m \u001b[31m13.3 MB/s\u001b[0m eta \u001b[36m0:00:00\u001b[0m\n",
            "\u001b[?25hRequirement already satisfied: annotated-types>=0.4.0 in /usr/local/lib/python3.10/dist-packages (from pydantic<3,>=1->langchain) (0.7.0)\n",
            "Requirement already satisfied: pydantic-core==2.18.4 in /usr/local/lib/python3.10/dist-packages (from pydantic<3,>=1->langchain) (2.18.4)\n",
            "Requirement already satisfied: typing-extensions>=4.6.1 in /usr/local/lib/python3.10/dist-packages (from pydantic<3,>=1->langchain) (4.12.2)\n",
            "Requirement already satisfied: charset-normalizer<4,>=2 in /usr/local/lib/python3.10/dist-packages (from requests<3,>=2->langchain) (3.3.2)\n",
            "Requirement already satisfied: idna<4,>=2.5 in /usr/local/lib/python3.10/dist-packages (from requests<3,>=2->langchain) (3.7)\n",
            "Requirement already satisfied: urllib3<3,>=1.21.1 in /usr/local/lib/python3.10/dist-packages (from requests<3,>=2->langchain) (2.0.7)\n",
            "Requirement already satisfied: certifi>=2017.4.17 in /usr/local/lib/python3.10/dist-packages (from requests<3,>=2->langchain) (2024.6.2)\n",
            "Requirement already satisfied: greenlet!=0.4.17 in /usr/local/lib/python3.10/dist-packages (from SQLAlchemy<3,>=1.4->langchain) (3.0.3)\n",
            "Collecting jsonpointer>=1.9 (from jsonpatch<2.0,>=1.33->langchain-core<0.3.0,>=0.2.7->langchain)\n",
            "  Downloading jsonpointer-3.0.0-py2.py3-none-any.whl (7.6 kB)\n",
            "Installing collected packages: orjson, jsonpointer, jsonpatch, langsmith, langchain-core, langchain-text-splitters, langchain\n",
            "Successfully installed jsonpatch-1.33 jsonpointer-3.0.0 langchain-0.2.5 langchain-core-0.2.9 langchain-text-splitters-0.2.1 langsmith-0.1.81 orjson-3.10.5\n"
          ]
        }
      ]
    },
    {
      "cell_type": "code",
      "source": [
        "!pip install -U langchain-community"
      ],
      "metadata": {
        "colab": {
          "base_uri": "https://localhost:8080/"
        },
        "id": "M9ypcZ15hFGS",
        "outputId": "937baef2-93cf-4148-dda9-437321fad6f9"
      },
      "execution_count": null,
      "outputs": [
        {
          "output_type": "stream",
          "name": "stdout",
          "text": [
            "Collecting langchain-community\n",
            "  Downloading langchain_community-0.2.5-py3-none-any.whl (2.2 MB)\n",
            "\u001b[2K     \u001b[90m━━━━━━━━━━━━━━━━━━━━━━━━━━━━━━━━━━━━━━━━\u001b[0m \u001b[32m2.2/2.2 MB\u001b[0m \u001b[31m19.5 MB/s\u001b[0m eta \u001b[36m0:00:00\u001b[0m\n",
            "\u001b[?25hRequirement already satisfied: PyYAML>=5.3 in /usr/local/lib/python3.10/dist-packages (from langchain-community) (6.0.1)\n",
            "Requirement already satisfied: SQLAlchemy<3,>=1.4 in /usr/local/lib/python3.10/dist-packages (from langchain-community) (2.0.30)\n",
            "Requirement already satisfied: aiohttp<4.0.0,>=3.8.3 in /usr/local/lib/python3.10/dist-packages (from langchain-community) (3.9.5)\n",
            "Collecting dataclasses-json<0.7,>=0.5.7 (from langchain-community)\n",
            "  Downloading dataclasses_json-0.6.7-py3-none-any.whl (28 kB)\n",
            "Requirement already satisfied: langchain<0.3.0,>=0.2.5 in /usr/local/lib/python3.10/dist-packages (from langchain-community) (0.2.5)\n",
            "Requirement already satisfied: langchain-core<0.3.0,>=0.2.7 in /usr/local/lib/python3.10/dist-packages (from langchain-community) (0.2.9)\n",
            "Requirement already satisfied: langsmith<0.2.0,>=0.1.0 in /usr/local/lib/python3.10/dist-packages (from langchain-community) (0.1.81)\n",
            "Requirement already satisfied: numpy<2,>=1 in /usr/local/lib/python3.10/dist-packages (from langchain-community) (1.25.2)\n",
            "Requirement already satisfied: requests<3,>=2 in /usr/local/lib/python3.10/dist-packages (from langchain-community) (2.31.0)\n",
            "Requirement already satisfied: tenacity<9.0.0,>=8.1.0 in /usr/local/lib/python3.10/dist-packages (from langchain-community) (8.4.1)\n",
            "Requirement already satisfied: aiosignal>=1.1.2 in /usr/local/lib/python3.10/dist-packages (from aiohttp<4.0.0,>=3.8.3->langchain-community) (1.3.1)\n",
            "Requirement already satisfied: attrs>=17.3.0 in /usr/local/lib/python3.10/dist-packages (from aiohttp<4.0.0,>=3.8.3->langchain-community) (23.2.0)\n",
            "Requirement already satisfied: frozenlist>=1.1.1 in /usr/local/lib/python3.10/dist-packages (from aiohttp<4.0.0,>=3.8.3->langchain-community) (1.4.1)\n",
            "Requirement already satisfied: multidict<7.0,>=4.5 in /usr/local/lib/python3.10/dist-packages (from aiohttp<4.0.0,>=3.8.3->langchain-community) (6.0.5)\n",
            "Requirement already satisfied: yarl<2.0,>=1.0 in /usr/local/lib/python3.10/dist-packages (from aiohttp<4.0.0,>=3.8.3->langchain-community) (1.9.4)\n",
            "Requirement already satisfied: async-timeout<5.0,>=4.0 in /usr/local/lib/python3.10/dist-packages (from aiohttp<4.0.0,>=3.8.3->langchain-community) (4.0.3)\n",
            "Collecting marshmallow<4.0.0,>=3.18.0 (from dataclasses-json<0.7,>=0.5.7->langchain-community)\n",
            "  Downloading marshmallow-3.21.3-py3-none-any.whl (49 kB)\n",
            "\u001b[2K     \u001b[90m━━━━━━━━━━━━━━━━━━━━━━━━━━━━━━━━━━━━━━━━\u001b[0m \u001b[32m49.2/49.2 kB\u001b[0m \u001b[31m5.4 MB/s\u001b[0m eta \u001b[36m0:00:00\u001b[0m\n",
            "\u001b[?25hCollecting typing-inspect<1,>=0.4.0 (from dataclasses-json<0.7,>=0.5.7->langchain-community)\n",
            "  Downloading typing_inspect-0.9.0-py3-none-any.whl (8.8 kB)\n",
            "Requirement already satisfied: langchain-text-splitters<0.3.0,>=0.2.0 in /usr/local/lib/python3.10/dist-packages (from langchain<0.3.0,>=0.2.5->langchain-community) (0.2.1)\n",
            "Requirement already satisfied: pydantic<3,>=1 in /usr/local/lib/python3.10/dist-packages (from langchain<0.3.0,>=0.2.5->langchain-community) (2.7.4)\n",
            "Requirement already satisfied: jsonpatch<2.0,>=1.33 in /usr/local/lib/python3.10/dist-packages (from langchain-core<0.3.0,>=0.2.7->langchain-community) (1.33)\n",
            "Requirement already satisfied: packaging<25,>=23.2 in /usr/local/lib/python3.10/dist-packages (from langchain-core<0.3.0,>=0.2.7->langchain-community) (24.1)\n",
            "Requirement already satisfied: orjson<4.0.0,>=3.9.14 in /usr/local/lib/python3.10/dist-packages (from langsmith<0.2.0,>=0.1.0->langchain-community) (3.10.5)\n",
            "Requirement already satisfied: charset-normalizer<4,>=2 in /usr/local/lib/python3.10/dist-packages (from requests<3,>=2->langchain-community) (3.3.2)\n",
            "Requirement already satisfied: idna<4,>=2.5 in /usr/local/lib/python3.10/dist-packages (from requests<3,>=2->langchain-community) (3.7)\n",
            "Requirement already satisfied: urllib3<3,>=1.21.1 in /usr/local/lib/python3.10/dist-packages (from requests<3,>=2->langchain-community) (2.0.7)\n",
            "Requirement already satisfied: certifi>=2017.4.17 in /usr/local/lib/python3.10/dist-packages (from requests<3,>=2->langchain-community) (2024.6.2)\n",
            "Requirement already satisfied: typing-extensions>=4.6.0 in /usr/local/lib/python3.10/dist-packages (from SQLAlchemy<3,>=1.4->langchain-community) (4.12.2)\n",
            "Requirement already satisfied: greenlet!=0.4.17 in /usr/local/lib/python3.10/dist-packages (from SQLAlchemy<3,>=1.4->langchain-community) (3.0.3)\n",
            "Requirement already satisfied: jsonpointer>=1.9 in /usr/local/lib/python3.10/dist-packages (from jsonpatch<2.0,>=1.33->langchain-core<0.3.0,>=0.2.7->langchain-community) (3.0.0)\n",
            "Requirement already satisfied: annotated-types>=0.4.0 in /usr/local/lib/python3.10/dist-packages (from pydantic<3,>=1->langchain<0.3.0,>=0.2.5->langchain-community) (0.7.0)\n",
            "Requirement already satisfied: pydantic-core==2.18.4 in /usr/local/lib/python3.10/dist-packages (from pydantic<3,>=1->langchain<0.3.0,>=0.2.5->langchain-community) (2.18.4)\n",
            "Collecting mypy-extensions>=0.3.0 (from typing-inspect<1,>=0.4.0->dataclasses-json<0.7,>=0.5.7->langchain-community)\n",
            "  Downloading mypy_extensions-1.0.0-py3-none-any.whl (4.7 kB)\n",
            "Installing collected packages: mypy-extensions, marshmallow, typing-inspect, dataclasses-json, langchain-community\n",
            "Successfully installed dataclasses-json-0.6.7 langchain-community-0.2.5 marshmallow-3.21.3 mypy-extensions-1.0.0 typing-inspect-0.9.0\n"
          ]
        }
      ]
    },
    {
      "cell_type": "code",
      "source": [
        "%pip install -qU langchain-openai"
      ],
      "metadata": {
        "colab": {
          "base_uri": "https://localhost:8080/"
        },
        "id": "MJzCkEgRhX0N",
        "outputId": "43c0f073-7427-4579-fff8-aeadfcfa4084"
      },
      "execution_count": null,
      "outputs": [
        {
          "output_type": "stream",
          "name": "stdout",
          "text": [
            "\u001b[2K     \u001b[90m━━━━━━━━━━━━━━━━━━━━━━━━━━━━━━━━━━━━━━━━\u001b[0m \u001b[32m40.3/40.3 kB\u001b[0m \u001b[31m1.4 MB/s\u001b[0m eta \u001b[36m0:00:00\u001b[0m\n",
            "\u001b[2K     \u001b[90m━━━━━━━━━━━━━━━━━━━━━━━━━━━━━━━━━━━━━━━━\u001b[0m \u001b[32m327.4/327.4 kB\u001b[0m \u001b[31m9.6 MB/s\u001b[0m eta \u001b[36m0:00:00\u001b[0m\n",
            "\u001b[2K     \u001b[90m━━━━━━━━━━━━━━━━━━━━━━━━━━━━━━━━━━━━━━━━\u001b[0m \u001b[32m1.1/1.1 MB\u001b[0m \u001b[31m41.2 MB/s\u001b[0m eta \u001b[36m0:00:00\u001b[0m\n",
            "\u001b[2K     \u001b[90m━━━━━━━━━━━━━━━━━━━━━━━━━━━━━━━━━━━━━━━━\u001b[0m \u001b[32m75.6/75.6 kB\u001b[0m \u001b[31m8.1 MB/s\u001b[0m eta \u001b[36m0:00:00\u001b[0m\n",
            "\u001b[2K     \u001b[90m━━━━━━━━━━━━━━━━━━━━━━━━━━━━━━━━━━━━━━━━\u001b[0m \u001b[32m77.9/77.9 kB\u001b[0m \u001b[31m7.0 MB/s\u001b[0m eta \u001b[36m0:00:00\u001b[0m\n",
            "\u001b[2K     \u001b[90m━━━━━━━━━━━━━━━━━━━━━━━━━━━━━━━━━━━━━━━━\u001b[0m \u001b[32m58.3/58.3 kB\u001b[0m \u001b[31m5.4 MB/s\u001b[0m eta \u001b[36m0:00:00\u001b[0m\n",
            "\u001b[?25h"
          ]
        }
      ]
    },
    {
      "cell_type": "code",
      "source": [
        "import os"
      ],
      "metadata": {
        "id": "GgLJxty_fFXI"
      },
      "execution_count": null,
      "outputs": []
    },
    {
      "cell_type": "code",
      "source": [
        "os.environ[\"SERPAPI_API_KEY\"]='fc00bae5ada1188e2edcb51aadea4b6a6ff7dad69dc5fcd4260ddba892547851'"
      ],
      "metadata": {
        "id": "FAq1ZjvRfNKQ"
      },
      "execution_count": null,
      "outputs": []
    },
    {
      "cell_type": "code",
      "source": [
        "from google.colab import userdata\n",
        "OPENAI_API_KEY=userdata.get('OPENAI_API_KEY')"
      ],
      "metadata": {
        "id": "xRAXfxGQfpfk"
      },
      "execution_count": null,
      "outputs": []
    },
    {
      "cell_type": "code",
      "source": [
        "os.environ[\"OPENAI_API_KEY\"]=OPENAI_API_KEY"
      ],
      "metadata": {
        "id": "foyRFOpefQ-r"
      },
      "execution_count": null,
      "outputs": []
    },
    {
      "cell_type": "code",
      "source": [
        "from langchain.agents import AgentType,initialize_agent, load_tools"
      ],
      "metadata": {
        "id": "fjTgzatZfwKp"
      },
      "execution_count": null,
      "outputs": []
    },
    {
      "cell_type": "code",
      "source": [
        "from langchain_openai import ChatOpenAI"
      ],
      "metadata": {
        "id": "nwC9xx0hhclz"
      },
      "execution_count": null,
      "outputs": []
    },
    {
      "cell_type": "code",
      "source": [
        "llm = ChatOpenAI(\n",
        "    model=\"gpt-3.5-turbo\",\n",
        "    temperature=0)"
      ],
      "metadata": {
        "id": "yztdA8lDgyMR"
      },
      "execution_count": null,
      "outputs": []
    },
    {
      "cell_type": "code",
      "source": [
        "tool = load_tools([\"serpapi\",\"llm-math\"],llm=llm)"
      ],
      "metadata": {
        "id": "sSL8xs1Fh116"
      },
      "execution_count": null,
      "outputs": []
    },
    {
      "cell_type": "code",
      "source": [
        "agent1 = initialize_agent(tool, llm, agent= AgentType.ZERO_SHOT_REACT_DESCRIPTION, verbose= True)"
      ],
      "metadata": {
        "id": "lmzM85ifitRa"
      },
      "execution_count": null,
      "outputs": []
    },
    {
      "cell_type": "code",
      "source": [
        "agent1.run(\"How much is US GDP in 2024 plus 5?\")"
      ],
      "metadata": {
        "colab": {
          "base_uri": "https://localhost:8080/",
          "height": 362
        },
        "id": "qIOmEBh1jVwL",
        "outputId": "55069f26-0256-4f35-d907-185ae819a330"
      },
      "execution_count": null,
      "outputs": [
        {
          "output_type": "stream",
          "name": "stderr",
          "text": [
            "/usr/local/lib/python3.10/dist-packages/langchain_core/_api/deprecation.py:139: LangChainDeprecationWarning: The method `Chain.run` was deprecated in langchain 0.1.0 and will be removed in 0.3.0. Use invoke instead.\n",
            "  warn_deprecated(\n"
          ]
        },
        {
          "output_type": "stream",
          "name": "stdout",
          "text": [
            "\n",
            "\n",
            "\u001b[1m> Entering new AgentExecutor chain...\u001b[0m\n",
            "\u001b[32;1m\u001b[1;3mI need to calculate the US GDP in 2024 and then add 5 to it.\n",
            "Action: Calculator\n",
            "Action Input: US GDP in 2024\u001b[0m\n",
            "Observation: \u001b[33;1m\u001b[1;3mAnswer: 21433000000000.0\u001b[0m\n",
            "Thought:\u001b[32;1m\u001b[1;3mNow I need to add 5 to the US GDP in 2024.\n",
            "Action: Calculator\n",
            "Action Input: 21433000000000.0 + 5\u001b[0m\n",
            "Observation: \u001b[33;1m\u001b[1;3mAnswer: 21433000000005.0\u001b[0m\n",
            "Thought:\u001b[32;1m\u001b[1;3mI now know the final answer.\n",
            "Final Answer: US GDP in 2024 plus 5 is 21,433,000,000,005.\u001b[0m\n",
            "\n",
            "\u001b[1m> Finished chain.\u001b[0m\n"
          ]
        },
        {
          "output_type": "execute_result",
          "data": {
            "text/plain": [
              "'US GDP in 2024 plus 5 is 21,433,000,000,005.'"
            ],
            "application/vnd.google.colaboratory.intrinsic+json": {
              "type": "string"
            }
          },
          "metadata": {},
          "execution_count": 20
        }
      ]
    },
    {
      "cell_type": "code",
      "source": [
        "agent1.run(\"in which year indian team won its second world cup give me all the player name of the winning team??\")"
      ],
      "metadata": {
        "colab": {
          "base_uri": "https://localhost:8080/",
          "height": 344
        },
        "id": "ETm7HdAgmwKM",
        "outputId": "53c6faa0-d36c-484d-b69e-f4539b4330b3"
      },
      "execution_count": null,
      "outputs": [
        {
          "output_type": "stream",
          "name": "stdout",
          "text": [
            "\n",
            "\n",
            "\u001b[1m> Entering new AgentExecutor chain...\u001b[0m\n",
            "\u001b[32;1m\u001b[1;3mI need to search for the year when the Indian team won its second World Cup and then find the names of all the players in that winning team.\n",
            "Action: Search\n",
            "Action Input: \"Indian cricket team second World Cup win year\"\u001b[0m\n",
            "Observation: \u001b[36;1m\u001b[1;3mIndia's first World Cup victory came in 1983 when they defeated the West Indies in the final held at Lord's Cricket Ground in London, England. Their second World Cup win was in 2011, when they won the tournament on home soil, defeating Sri Lanka in the final at Wankhede Stadium in Mumbai, India.\u001b[0m\n",
            "Thought:\u001b[32;1m\u001b[1;3mNow that I know the Indian team won its second World Cup in 2011, I need to search for the names of all the players in the winning team.\n",
            "Action: Search\n",
            "Action Input: \"Indian cricket team 2011 World Cup winning squad\"\u001b[0m\n",
            "Observation: \u001b[36;1m\u001b[1;3m['Checkout team and player detaills of India Squad - ICC Cricket World Cup, 2011 Squad details on ESPNcricinfo.com.', 'Indian innings ; Sri Lanka. 274/6 (50 overs). v. India 277/4 (48.2 overs) ; Mahela Jayawardene 103* (88) Yuvraj Singh 2/49 (10 overs). Gautam Gambhir 97 (122)', '1. Virender Sehwag · Upul Tharanga ; 2. Sachin Tendulkar · Tillakaratne Dilshan ; 3. Gautam Gambhir · Kumar Sangakkara † (c) ; 4. Virat Kohli · Mahela Jayawardene ; 5.', 'This is a list of the squads picked for the 2011 Cricket World Cup. The oldest player at the 2011 World Cup was John Davison (40) of Canada while the ...', '1. MS Dhoni (c): · 2. Virender Sehwag · 3. Sachin Tendulkar · 4. Gautam Gambhir · 5. Virat Kohli · 6. Yuvraj Singh · 7. Suresh Raina · 8. Harbhajan ...', 'The squad. Mahendra Singh Dhoni (capt & wkt), Virender Sehwag (vice-capt), Ravichandran Ashwin, Piyush Chawla, Gautam Gambhir, Zaheer Khan ...', 'Virender Sehwag · Sachin Tendulkar · Gautam Gambhir · Virat Kohli · MS Dhoni · Yuvraj Singh · Suresh Raina · Harbhajan Singh.', \"TRENDING TOPICS: · India's 2011 World Cup squad · MS Dhoni · Virat Kohli · Virender Sehwag · Sachin Tendulkar · Yuvraj Singh · Gautam Gambhir · Zaheer ...\", 'Many cricket fans keep wondering what the Indian heroes from the 2011 ODI World Cup are currently doing in their lives. Some players love to ...', 'Ravichandran Ashwin: Ravichandran Ashwin was an x-factor for India in the 2011 World Cup and played just two matches but a few months later ...']\u001b[0m\n",
            "Thought:\u001b[32;1m\u001b[1;3mI have found the names of the players in the Indian cricket team's 2011 World Cup winning squad.\n",
            "Final Answer: The players in the Indian cricket team's 2011 World Cup winning squad were MS Dhoni (c), Virender Sehwag, Sachin Tendulkar, Gautam Gambhir, Virat Kohli, Yuvraj Singh, Suresh Raina, and Harbhajan Singh.\u001b[0m\n",
            "\n",
            "\u001b[1m> Finished chain.\u001b[0m\n"
          ]
        },
        {
          "output_type": "execute_result",
          "data": {
            "text/plain": [
              "\"The players in the Indian cricket team's 2011 World Cup winning squad were MS Dhoni (c), Virender Sehwag, Sachin Tendulkar, Gautam Gambhir, Virat Kohli, Yuvraj Singh, Suresh Raina, and Harbhajan Singh.\""
            ],
            "application/vnd.google.colaboratory.intrinsic+json": {
              "type": "string"
            }
          },
          "metadata": {},
          "execution_count": 31
        }
      ]
    },
    {
      "cell_type": "code",
      "source": [
        "agent.run(\"How much is india GDP in 2024 plus 5?\")"
      ],
      "metadata": {
        "colab": {
          "base_uri": "https://localhost:8080/",
          "height": 379
        },
        "id": "ncLd_nkBjnjy",
        "outputId": "b0fdaf48-0a88-4ffc-8b08-ed06747e1e66"
      },
      "execution_count": null,
      "outputs": [
        {
          "output_type": "stream",
          "name": "stdout",
          "text": [
            "\n",
            "\n",
            "\u001b[1m> Entering new AgentExecutor chain...\u001b[0m\n",
            "\u001b[32;1m\u001b[1;3mI need to find the GDP of India in 2024 and then add 5 to it.\n",
            "Action: Search\n",
            "Action Input: \"India GDP 2024\"\u001b[0m\n",
            "Observation: \u001b[36;1m\u001b[1;3m{'type': 'organic_result', 'title': 'Economy of India', 'source': 'Wikipedia'}\u001b[0m\n",
            "Thought:\u001b[32;1m\u001b[1;3mI need to click on the Wikipedia link to find the specific GDP information for 2024.\n",
            "Action: Search\n",
            "Action Input: \"India GDP 2024 Wikipedia\"\u001b[0m\n",
            "Observation: \u001b[36;1m\u001b[1;3m$4.038 trillion (nominal; 2024 est.) $14.594 trillion (PPP; 2024 est.)\u001b[0m\n",
            "Thought:\u001b[32;1m\u001b[1;3mNow I need to add 5 to the GDP of India in 2024.\n",
            "Action: Calculator\n",
            "Action Input: 4.038 trillion + 5\u001b[0m\n",
            "Observation: \u001b[33;1m\u001b[1;3mAnswer: 4038000000005.0005\u001b[0m\n",
            "Thought:\u001b[32;1m\u001b[1;3mI now know the final answer\n",
            "Final Answer: $4,038,000,000,005.00\u001b[0m\n",
            "\n",
            "\u001b[1m> Finished chain.\u001b[0m\n"
          ]
        },
        {
          "output_type": "execute_result",
          "data": {
            "text/plain": [
              "'$4,038,000,000,005.00'"
            ],
            "application/vnd.google.colaboratory.intrinsic+json": {
              "type": "string"
            }
          },
          "metadata": {},
          "execution_count": 21
        }
      ]
    },
    {
      "cell_type": "code",
      "source": [
        "agent.run(\"who won the india's 2024 general election?\")"
      ],
      "metadata": {
        "colab": {
          "base_uri": "https://localhost:8080/",
          "height": 254
        },
        "id": "1AC-GjCpj8hx",
        "outputId": "e7d83a8f-22dd-4938-a758-ee4c824f6ec7"
      },
      "execution_count": null,
      "outputs": [
        {
          "output_type": "stream",
          "name": "stdout",
          "text": [
            "\n",
            "\n",
            "\u001b[1m> Entering new AgentExecutor chain...\u001b[0m\n",
            "\u001b[32;1m\u001b[1;3mI should use the search tool to find the answer to this question.\n",
            "Action: Search\n",
            "Action Input: \"India 2024 general election winner\"\u001b[0m\n",
            "Observation: \u001b[36;1m\u001b[1;3m[\"Prime Minister Narendra Modi's National Democratic Alliance coalition has won a majority in parliament, according to official results from ...\", 'General elections were held in India from 19 April to 1 June 2024 in seven phases, to elect all 543 members of the Lok Sabha. Votes were counted and the ...', 'The governing Bharatiya Janata Party (BJP) of Prime Minister Narendra Modi won 240 seats, falling short of the 272-mark that signifies a ...', \"See results and maps from India's 2024 Lok Sabha elections.\", 'Indian PM Narendra Modi has won a third consecutive term in a much tighter general election than anticipated. His Bharatiya Janata Party ...', 'The successful execution of these phases was a testament to the dedication of voters, political parties, candidates, election personnel, and ...', \"Vote counting is still underway in India's 2024 Lok Sabha election. Prime Minister Narendra Modi's Bharatiya Janata Party and its National ...\", 'The Bharatiya Janata Party, together with its National Democratic Alliance, has won a majority.', '2024 India Election Results: Lok Sabha Election results of UP, Andhra Pradesh, Bihar, MP, TN, Telangana, Karnataka, Kerala, WB, Odisha, Maharashtra, J&K, ...']\u001b[0m\n",
            "Thought:\u001b[32;1m\u001b[1;3mBased on the search results, it appears that Prime Minister Narendra Modi's National Democratic Alliance coalition won the 2024 general election in India.\n",
            "Final Answer: Prime Minister Narendra Modi's National Democratic Alliance coalition won the India's 2024 general election.\u001b[0m\n",
            "\n",
            "\u001b[1m> Finished chain.\u001b[0m\n"
          ]
        },
        {
          "output_type": "execute_result",
          "data": {
            "text/plain": [
              "\"Prime Minister Narendra Modi's National Democratic Alliance coalition won the India's 2024 general election.\""
            ],
            "application/vnd.google.colaboratory.intrinsic+json": {
              "type": "string"
            }
          },
          "metadata": {},
          "execution_count": 22
        }
      ]
    },
    {
      "cell_type": "code",
      "source": [
        "agent.run(\"how much seat BJP won in india's general election in 2024 plus 10000?\")"
      ],
      "metadata": {
        "colab": {
          "base_uri": "https://localhost:8080/",
          "height": 399
        },
        "id": "7azOOy7JkSci",
        "outputId": "fb20a254-9d4b-492f-a520-1b32c808dcec"
      },
      "execution_count": null,
      "outputs": [
        {
          "output_type": "stream",
          "name": "stdout",
          "text": [
            "\n",
            "\n",
            "\u001b[1m> Entering new AgentExecutor chain...\u001b[0m\n",
            "\u001b[32;1m\u001b[1;3mI need to find out how many seats BJP won in India's general election in 2024 first before adding 10000.\n",
            "Action: Search\n",
            "Action Input: \"BJP seats won in India general election 2024\"\u001b[0m\n",
            "Observation: \u001b[36;1m\u001b[1;3m['General elections were held in India from 19 April to 1 June 2024 in seven phases, to elect all 543 members of the Lok Sabha. Votes were counted and the ...', \"Prime Minister Narendra Modi's National Democratic Alliance coalition has won a majority in parliament, according to official results from ...\", 'The Bharatiya Janata Party, together with its National Democratic Alliance, has won a majority.', 'Prime Minister Narendra Modi and his Bharatiya Janata Party (BJP) won the most seats for the third consecutive time, but have fallen short of a ...', \"See results and maps from India's 2024 Lok Sabha elections.\", 'The governing Bharatiya Janata Party (BJP) of Prime Minister Narendra Modi won 240 seats, falling short of the 272-mark that signifies a ...', 'Election results show Indian Prime Minister Narendra Modi set to continue his long reign, but with a smaller mandate than predicted.', \"Vote counting is still underway in India's 2024 Lok Sabha election. Prime Minister Narendra Modi's Bharatiya Janata Party and its National ...\", 'Results of the Indian general elections were out on Tuesday with the National Democratic Alliance (NDA), led by the Bharatiya Janata Party (BJP) ...']\u001b[0m\n",
            "Thought:\u001b[32;1m\u001b[1;3mI need to extract the specific number of seats won by BJP in the 2024 general election.\n",
            "Action: Search\n",
            "Action Input: \"BJP seats won in India general election 2024\"\u001b[0m\n",
            "Observation: \u001b[36;1m\u001b[1;3m['General elections were held in India from 19 April to 1 June 2024 in seven phases, to elect all 543 members of the Lok Sabha. Votes were counted and the ...', \"Prime Minister Narendra Modi's National Democratic Alliance coalition has won a majority in parliament, according to official results from ...\", 'The Bharatiya Janata Party, together with its National Democratic Alliance, has won a majority.', 'Prime Minister Narendra Modi and his Bharatiya Janata Party (BJP) won the most seats for the third consecutive time, but have fallen short of a ...', \"See results and maps from India's 2024 Lok Sabha elections.\", 'The governing Bharatiya Janata Party (BJP) of Prime Minister Narendra Modi won 240 seats, falling short of the 272-mark that signifies a ...', 'Election results show Indian Prime Minister Narendra Modi set to continue his long reign, but with a smaller mandate than predicted.', \"Vote counting is still underway in India's 2024 Lok Sabha election. Prime Minister Narendra Modi's Bharatiya Janata Party and its National ...\", 'Results of the Indian general elections were out on Tuesday with the National Democratic Alliance (NDA), led by the Bharatiya Janata Party (BJP) ...']\u001b[0m\n",
            "Thought:\u001b[32;1m\u001b[1;3mI have found that the Bharatiya Janata Party (BJP) won 240 seats in India's general election in 2024.\n",
            "Action: Calculator\n",
            "Action Input: 240 + 10000\u001b[0m\n",
            "Observation: \u001b[33;1m\u001b[1;3mAnswer: 10240\u001b[0m\n",
            "Thought:\u001b[32;1m\u001b[1;3mI now know the final answer\n",
            "Final Answer: 10240\u001b[0m\n",
            "\n",
            "\u001b[1m> Finished chain.\u001b[0m\n"
          ]
        },
        {
          "output_type": "execute_result",
          "data": {
            "text/plain": [
              "'10240'"
            ],
            "application/vnd.google.colaboratory.intrinsic+json": {
              "type": "string"
            }
          },
          "metadata": {},
          "execution_count": 23
        }
      ]
    },
    {
      "cell_type": "code",
      "source": [
        "!pip install wikipedia"
      ],
      "metadata": {
        "colab": {
          "base_uri": "https://localhost:8080/"
        },
        "id": "UFyTcG9tkj1h",
        "outputId": "7101a5ff-aaa0-4713-c243-9798960edac0"
      },
      "execution_count": null,
      "outputs": [
        {
          "output_type": "stream",
          "name": "stdout",
          "text": [
            "Collecting wikipedia\n",
            "  Downloading wikipedia-1.4.0.tar.gz (27 kB)\n",
            "  Preparing metadata (setup.py) ... \u001b[?25l\u001b[?25hdone\n",
            "Requirement already satisfied: beautifulsoup4 in /usr/local/lib/python3.10/dist-packages (from wikipedia) (4.12.3)\n",
            "Requirement already satisfied: requests<3.0.0,>=2.0.0 in /usr/local/lib/python3.10/dist-packages (from wikipedia) (2.31.0)\n",
            "Requirement already satisfied: charset-normalizer<4,>=2 in /usr/local/lib/python3.10/dist-packages (from requests<3.0.0,>=2.0.0->wikipedia) (3.3.2)\n",
            "Requirement already satisfied: idna<4,>=2.5 in /usr/local/lib/python3.10/dist-packages (from requests<3.0.0,>=2.0.0->wikipedia) (3.7)\n",
            "Requirement already satisfied: urllib3<3,>=1.21.1 in /usr/local/lib/python3.10/dist-packages (from requests<3.0.0,>=2.0.0->wikipedia) (2.0.7)\n",
            "Requirement already satisfied: certifi>=2017.4.17 in /usr/local/lib/python3.10/dist-packages (from requests<3.0.0,>=2.0.0->wikipedia) (2024.6.2)\n",
            "Requirement already satisfied: soupsieve>1.2 in /usr/local/lib/python3.10/dist-packages (from beautifulsoup4->wikipedia) (2.5)\n",
            "Building wheels for collected packages: wikipedia\n",
            "  Building wheel for wikipedia (setup.py) ... \u001b[?25l\u001b[?25hdone\n",
            "  Created wheel for wikipedia: filename=wikipedia-1.4.0-py3-none-any.whl size=11680 sha256=0511c5010f1f455065eef86a1a572880ff08eaddbc8102c327a74abdee351494\n",
            "  Stored in directory: /root/.cache/pip/wheels/5e/b6/c5/93f3dec388ae76edc830cb42901bb0232504dfc0df02fc50de\n",
            "Successfully built wikipedia\n",
            "Installing collected packages: wikipedia\n",
            "Successfully installed wikipedia-1.4.0\n"
          ]
        }
      ]
    },
    {
      "cell_type": "code",
      "source": [
        "tool = load_tools([\"wikipedia\",\"llm-math\"],llm=llm)"
      ],
      "metadata": {
        "id": "cMGuYUREl5dS"
      },
      "execution_count": null,
      "outputs": []
    },
    {
      "cell_type": "code",
      "source": [
        "agent = initialize_agent(\n",
        "    tool,\n",
        "    llm,\n",
        "    agent=AgentType.ZERO_SHOT_REACT_DESCRIPTION,\n",
        "    verbose=True,\n",
        "\n",
        ")"
      ],
      "metadata": {
        "id": "vpNgOgGzmBaI"
      },
      "execution_count": null,
      "outputs": []
    },
    {
      "cell_type": "code",
      "source": [
        "agent.run(\"in which year first indian film released?\")"
      ],
      "metadata": {
        "colab": {
          "base_uri": "https://localhost:8080/",
          "height": 1000
        },
        "id": "s4BIaFK9mJ1h",
        "outputId": "2e959901-bab7-44a8-b7db-32c1a9e8e116"
      },
      "execution_count": null,
      "outputs": [
        {
          "output_type": "stream",
          "name": "stdout",
          "text": [
            "\n",
            "\n",
            "\u001b[1m> Entering new AgentExecutor chain...\u001b[0m\n",
            "\u001b[32;1m\u001b[1;3mI need to find out when the first Indian film was released.\n",
            "Action: wikipedia\n",
            "Action Input: First Indian film\u001b[0m\n",
            "Observation: \u001b[36;1m\u001b[1;3mPage: Cinema of India\n",
            "Summary: The Cinema of India, consisting of motion pictures made by the Indian film industry, has had a large effect on world cinema since the second half of the 20th century. Indian cinema is made up of various film industries, including Hindi cinema, which makes motion pictures in the Hindi language and is one of the biggest film industries in the country. In 2021, Telugu cinema became the largest film industry in India in terms of box office receipts. Major centers of film production across the country include Mumbai, Chennai, Hyderabad,  Kolkata, Kochi, Bangalore, Bhubaneswar-Cuttack, and Guwahati. For a number of years, the Indian film industry has ranked first in the world in terms of annual film output. In 2022, Indian cinema earned ₹15,000 crore ($1.7955 billion) at the box-office.\n",
            "Indian cinema is composed of multilingual and multi-ethnic film art. In 2022, Hindi cinema represented 33% of box office revenue, followed by Telugu representing 20%, Tamil representing 16%, Kannada representing 8%, and Malayalam representing 6%. Other prominent film industries are Bengali, Marathi, Odia, Punjabi, Gujarati, and Bhojpuri cinema. As of 2022, the combined revenue of South Indian film industries have surpassed that of the Mumbai-based Hindi-language film industry (Bollywood). As of 2022, Telugu cinema leads Indian cinema's box-office revenue.\n",
            "Indian cinema is a global enterprise, and its films have attracted international attention and acclaim throughout South Asia. Since the inception of Indian cinema in 1913, Hindi cinema enjoyed the position of top film industry, but in recent years it has faced stiff competition from its compatriots. Overseas Indians account for 12% of the industry's revenue.\n",
            "\n",
            "\n",
            "\n",
            "Page: Indian (1996 film)\n",
            "Summary: Indian is a 1996 Indian Tamil-language vigilante action film directed by S. Shankar and produced by A. M. Rathnam. The film stars Kamal Haasan, Manisha Koirala, Urmila Matondkar and Sukanya, with Manorama, Goundamani, Senthil, Nedumudi Venu, Kasthuri, Nizhalgal Ravi and Ajay Rathnam in supporting roles. It follows a retired freedom fighter who rebels against corruption in India, which puts him in conflict with his son who lives by corruption.\n",
            "Indian had music composed by A. R. Rahman, cinematography handled by Jeeva and editing by B. Lenin-V. T. Vijayan. The film was released on 9 May 1996 worldwide and became the highest-grossing Tamil film upon its release. The film was selected by India as its entry for the Best Foreign Language Film for the Academy Awards in 1996, but was not nominated. The film won three National Film Awards, including Best Actor (Haasan), two South Filmfare Awards and two Tamil Nadu State Film Awards. A sequel Indian 2 is scheduled to release in 2024, and a third film is in production.\n",
            "\n",
            "\n",
            "\n",
            "Page: RRR\n",
            "Summary: RRR (subtitled onscreen as Roudram Ranam Rudhiram) is a 2022 Indian Telugu-language epic period action drama film directed by S. S. Rajamouli, who co-wrote the film with V. Vijayendra Prasad. It was produced by D. V. V. Danayya of DVV Entertainment. The film stars N. T. Rama Rao Jr. and Ram Charan alongside an ensemble cast with Ajay Devgn, Alia Bhatt, Shriya Saran, Samuthirakani, Ray Stevenson, Alison Doody, and Olivia Morris playing supporting roles. It is a historical fiction film about two Indian revolutionaries, Alluri Sitarama Raju (Charan) and Komaram Bheem (Rama Rao), their friendship, and their fight against the British Raj.\n",
            "Made on a budget of ₹550 crore (US$69 million), RRR is the most expensive Indian film to date. The film was released theatrically on 25 March 2022. With ₹223 crore (US$27 million) worldwide on its first day, RRR recorded the highest opening-day earned by an Indian film. It emerged as the highest-grossing film in its home market of Andhra Pradesh and Telangana, grossing over ₹405.9 crore (US$49 million). The film grossed ₹1,387.26 crore (US$170 million)  worldwide, setting several box office records for an Indian film, inclu\u001b[0m\n",
            "Thought:\u001b[32;1m\u001b[1;3mI need to search for the specific information about the first Indian film released.\n",
            "Action: wikipedia\n",
            "Action Input: First Indian film released\u001b[0m\n",
            "Observation: \u001b[36;1m\u001b[1;3mPage: 2012 in film\n",
            "Summary: 2012 in film is an overview of events, including the highest-grossing films, award ceremonies, critics' lists of the best films of 2012, festivals, a list of country-specific lists of films released, and notable deaths. Most notably, Universal and Paramount, two of America's oldest surviving film studios, celebrated their centennial anniversaries, marking the first time that two major film studios celebrate 100 years. The Dolby Atmos sound format was launched for the premiere of Brave. The James Bond film series celebrated its 50th anniversary and released its 23rd film, Skyfall. Six box-office blockbusters from previous years (Beauty and the Beast, Star Wars: Episode I – The Phantom Menace, Titanic, Raiders of the Lost Ark, Finding Nemo, and Monsters, Inc.) were re-released in 3D and IMAX. Also, the year marked the debut for high frame rate technology. The first film using 48 F.P.S., a higher frame rate than the film industry standard 24 F.P.S., was The Hobbit: An Unexpected Journey.\n",
            "\n",
            "\n",
            "\n",
            "Page: Indian (1996 film)\n",
            "Summary: Indian is a 1996 Indian Tamil-language vigilante action film directed by S. Shankar and produced by A. M. Rathnam. The film stars Kamal Haasan, Manisha Koirala, Urmila Matondkar and Sukanya, with Manorama, Goundamani, Senthil, Nedumudi Venu, Kasthuri, Nizhalgal Ravi and Ajay Rathnam in supporting roles. It follows a retired freedom fighter who rebels against corruption in India, which puts him in conflict with his son who lives by corruption.\n",
            "Indian had music composed by A. R. Rahman, cinematography handled by Jeeva and editing by B. Lenin-V. T. Vijayan. The film was released on 9 May 1996 worldwide and became the highest-grossing Tamil film upon its release. The film was selected by India as its entry for the Best Foreign Language Film for the Academy Awards in 1996, but was not nominated. The film won three National Film Awards, including Best Actor (Haasan), two South Filmfare Awards and two Tamil Nadu State Film Awards. A sequel Indian 2 is scheduled to release in 2024, and a third film is in production.\n",
            "\n",
            "\n",
            "\n",
            "Page: Cinema of India\n",
            "Summary: The Cinema of India, consisting of motion pictures made by the Indian film industry, has had a large effect on world cinema since the second half of the 20th century. Indian cinema is made up of various film industries, including Hindi cinema, which makes motion pictures in the Hindi language and is one of the biggest film industries in the country. In 2021, Telugu cinema became the largest film industry in India in terms of box office receipts. Major centers of film production across the country include Mumbai, Chennai, Hyderabad,  Kolkata, Kochi, Bangalore, Bhubaneswar-Cuttack, and Guwahati. For a number of years, the Indian film industry has ranked first in the world in terms of annual film output. In 2022, Indian cinema earned ₹15,000 crore ($1.7955 billion) at the box-office.\n",
            "Indian cinema is composed of multilingual and multi-ethnic film art. In 2022, Hindi cinema represented 33% of box office revenue, followed by Telugu representing 20%, Tamil representing 16%, Kannada representing 8%, and Malayalam representing 6%. Other prominent film industries are Bengali, Marathi, Odia, Punjabi, Gujarati, and Bhojpuri cinema. As of 2022, the combined revenue of South Indian film industries have surpassed that of the Mumbai-based Hindi-language film industry (Bollywood). As of 2022, Telugu cinema leads Indian cinema's box-office revenue.\n",
            "Indian cinema is a global enterprise, and its films have attracted international attention and acclaim throughout South Asia. Since the inception of Indian cinema in 1913, Hindi cinema enjoyed the position of top film industry, but in recent years it has faced stiff competition from its compatriots. Overseas Indians account for 12% of the industry's revenue.\n",
            "\n",
            "\u001b[0m\n",
            "Thought:\u001b[32;1m\u001b[1;3mI need to search for the specific information about the first Indian film released.\n",
            "Action: wikipedia\n",
            "Action Input: First Indian film\u001b[0m\n",
            "Observation: \u001b[36;1m\u001b[1;3mPage: Cinema of India\n",
            "Summary: The Cinema of India, consisting of motion pictures made by the Indian film industry, has had a large effect on world cinema since the second half of the 20th century. Indian cinema is made up of various film industries, including Hindi cinema, which makes motion pictures in the Hindi language and is one of the biggest film industries in the country. In 2021, Telugu cinema became the largest film industry in India in terms of box office receipts. Major centers of film production across the country include Mumbai, Chennai, Hyderabad,  Kolkata, Kochi, Bangalore, Bhubaneswar-Cuttack, and Guwahati. For a number of years, the Indian film industry has ranked first in the world in terms of annual film output. In 2022, Indian cinema earned ₹15,000 crore ($1.7955 billion) at the box-office.\n",
            "Indian cinema is composed of multilingual and multi-ethnic film art. In 2022, Hindi cinema represented 33% of box office revenue, followed by Telugu representing 20%, Tamil representing 16%, Kannada representing 8%, and Malayalam representing 6%. Other prominent film industries are Bengali, Marathi, Odia, Punjabi, Gujarati, and Bhojpuri cinema. As of 2022, the combined revenue of South Indian film industries have surpassed that of the Mumbai-based Hindi-language film industry (Bollywood). As of 2022, Telugu cinema leads Indian cinema's box-office revenue.\n",
            "Indian cinema is a global enterprise, and its films have attracted international attention and acclaim throughout South Asia. Since the inception of Indian cinema in 1913, Hindi cinema enjoyed the position of top film industry, but in recent years it has faced stiff competition from its compatriots. Overseas Indians account for 12% of the industry's revenue.\n",
            "\n",
            "\n",
            "\n",
            "Page: Indian (1996 film)\n",
            "Summary: Indian is a 1996 Indian Tamil-language vigilante action film directed by S. Shankar and produced by A. M. Rathnam. The film stars Kamal Haasan, Manisha Koirala, Urmila Matondkar and Sukanya, with Manorama, Goundamani, Senthil, Nedumudi Venu, Kasthuri, Nizhalgal Ravi and Ajay Rathnam in supporting roles. It follows a retired freedom fighter who rebels against corruption in India, which puts him in conflict with his son who lives by corruption.\n",
            "Indian had music composed by A. R. Rahman, cinematography handled by Jeeva and editing by B. Lenin-V. T. Vijayan. The film was released on 9 May 1996 worldwide and became the highest-grossing Tamil film upon its release. The film was selected by India as its entry for the Best Foreign Language Film for the Academy Awards in 1996, but was not nominated. The film won three National Film Awards, including Best Actor (Haasan), two South Filmfare Awards and two Tamil Nadu State Film Awards. A sequel Indian 2 is scheduled to release in 2024, and a third film is in production.\n",
            "\n",
            "\n",
            "\n",
            "Page: RRR\n",
            "Summary: RRR (subtitled onscreen as Roudram Ranam Rudhiram) is a 2022 Indian Telugu-language epic period action drama film directed by S. S. Rajamouli, who co-wrote the film with V. Vijayendra Prasad. It was produced by D. V. V. Danayya of DVV Entertainment. The film stars N. T. Rama Rao Jr. and Ram Charan alongside an ensemble cast with Ajay Devgn, Alia Bhatt, Shriya Saran, Samuthirakani, Ray Stevenson, Alison Doody, and Olivia Morris playing supporting roles. It is a historical fiction film about two Indian revolutionaries, Alluri Sitarama Raju (Charan) and Komaram Bheem (Rama Rao), their friendship, and their fight against the British Raj.\n",
            "Made on a budget of ₹550 crore (US$69 million), RRR is the most expensive Indian film to date. The film was released theatrically on 25 March 2022. With ₹223 crore (US$27 million) worldwide on its first day, RRR recorded the highest opening-day earned by an Indian film. It emerged as the highest-grossing film in its home market of Andhra Pradesh and Telangana, grossing over ₹405.9 crore (US$49 million). The film grossed ₹1,387.26 crore (US$170 million)  worldwide, setting several box office records for an Indian film, inclu\u001b[0m\n",
            "Thought:\u001b[32;1m\u001b[1;3mI now know the final answer\n",
            "Final Answer: The first Indian film was released in 1913.\u001b[0m\n",
            "\n",
            "\u001b[1m> Finished chain.\u001b[0m\n"
          ]
        },
        {
          "output_type": "execute_result",
          "data": {
            "text/plain": [
              "'The first Indian film was released in 1913.'"
            ],
            "application/vnd.google.colaboratory.intrinsic+json": {
              "type": "string"
            }
          },
          "metadata": {},
          "execution_count": 32
        }
      ]
    },
    {
      "cell_type": "code",
      "source": [
        "agent.run(\"give me a detail analysis of indian election 2024\")"
      ],
      "metadata": {
        "colab": {
          "base_uri": "https://localhost:8080/",
          "height": 543
        },
        "id": "m-RfF1F7mc9E",
        "outputId": "2d9d8c7b-f2e2-4073-cbc8-e891ee14458a"
      },
      "execution_count": null,
      "outputs": [
        {
          "output_type": "stream",
          "name": "stdout",
          "text": [
            "\n",
            "\n",
            "\u001b[1m> Entering new AgentExecutor chain...\u001b[0m\n",
            "\u001b[32;1m\u001b[1;3mI should use Wikipedia to find information about the Indian election in 2024.\n",
            "Action: wikipedia\n",
            "Action Input: Indian election 2024\u001b[0m\n",
            "Observation: \u001b[36;1m\u001b[1;3mPage: 2024 Indian general election\n",
            "Summary: General elections were held in India from 19 April to 1 June 2024 in seven phases, to elect all 543 members of the Lok Sabha. Votes were counted and the result was declared on 4 June to form the 18th Lok Sabha. On 7 June 2024, Modi confirmed the support of 293 MPs to Droupadi Murmu, the president of India. This marked Modi's third term as prime minister and his first time heading a coalition government, with the Telugu Desam Party of Andhra Pradesh and Janata Dal (United) of Bihar emerging as two main allies.\n",
            "More than 968 million people out of a population of 1.4 billion people were eligible to vote, equivalent to 70 percent of the total population. 642 million voters participated in the election and 312 million of them were women, making it the highest ever participation by women voters. This was the largest-ever election, surpassing the previous election, and lasted 44 days, second only to the 1951–52 Indian general election.  The legislative assembly elections in the states of Andhra Pradesh, Arunachal Pradesh, Odisha, and Sikkim were held simultaneously with the general election, along with the by-elections for 25 constituencies in 12 legislative assemblies.\n",
            "Incumbent prime minister Narendra Modi, who completed a second term, ran for a third consecutive term after his Bharatiya Janata Party (BJP) had enjoyed an absolute majority—a minimum of 272 seats—in the 2019 and 2014 elections. The primary opposition was the Indian National Developmental Inclusive Alliance (INDIA), a coalition formed by the Indian National Congress (INC) and many regional parties in 2023. The election was criticised for lack of action on hate speeches by Modi's BJP, reported electronic voting machine (EVM) malfunctioning, and suppression of political opponents of the BJP.\n",
            "Opinion surveys of mainstream media outlets projected a decisive victory for the BJP and its coalition, the National Democratic Alliance (NDA). However, the BJP won 240 seats, down from the 303 seats it had secured in 2019, and lost its singular majority in the Lok Sabha, whereas the overall NDA secured 293 of the house's 543 seats. The INDIA coalition outperformed expectations, securing 234 seats, 99 of which were won by the Congress, garnering the party the official opposition status for the first time in 10 years. Seven independents and ten candidates from non-aligned parties also won seats in the Lok Sabha.\n",
            "\n",
            "Page: 2024 Indian general election in Maharashtra\n",
            "Summary: The 2024 Indian general election in Maharashtra was held in five phases between 19 April and 20 May 2024 to elect 48 members of the 18th Lok Sabha. The result of the election was  announced on 4 June 2024.\n",
            "\n",
            "Page: 2024 Indian general election in Kerala\n",
            "Summary: The 2024 Indian general election was held in Kerala on 26 April 2024 to elect 20 members of the 18th Lok Sabha. The result of the election was announced on 4 June 2024.\n",
            "The Indian National Congress led United Democratic Front which is part of Indian National Developmental Inclusive Alliance swept the elections winning 18 out of 20 seats. The Bharatiya Janata Party won a Lok Sabha seat from Kerala for the first time in this elections.\n",
            "The Indian National Developmental Inclusive Alliance partners Indian National Congress along with United Democratic Front allies and Communist Party of India (Marxist) along with Left Democratic Front constituents  contested separately in Kerala without having any seat sharing agreement.\n",
            "\n",
            "\u001b[0m\n",
            "Thought:\u001b[32;1m\u001b[1;3mI now know the final answer\n",
            "Final Answer: The 2024 Indian general election was held in seven phases from 19 April to 1 June 2024 to elect all 543 members of the Lok Sabha. Narendra Modi secured his third term as prime minister, leading a coalition government with the support of 293 MPs. The election saw a record number of eligible voters and high participation, with the BJP losing its majority in the Lok Sabha.\u001b[0m\n",
            "\n",
            "\u001b[1m> Finished chain.\u001b[0m\n"
          ]
        },
        {
          "output_type": "execute_result",
          "data": {
            "text/plain": [
              "'The 2024 Indian general election was held in seven phases from 19 April to 1 June 2024 to elect all 543 members of the Lok Sabha. Narendra Modi secured his third term as prime minister, leading a coalition government with the support of 293 MPs. The election saw a record number of eligible voters and high participation, with the BJP losing its majority in the Lok Sabha.'"
            ],
            "application/vnd.google.colaboratory.intrinsic+json": {
              "type": "string"
            }
          },
          "metadata": {},
          "execution_count": 33
        }
      ]
    },
    {
      "cell_type": "markdown",
      "source": [
        "The 2024 Indian general election was held in seven phases from 19 April to 1 June 2024 to elect all 543 members of the Lok Sabha. Narendra Modi secured his third term as prime minister, leading a coalition government with the support of 293 MPs. The election saw a record number of eligible voters and high participation, with the BJP losing its majority in the Lok Sabha."
      ],
      "metadata": {
        "id": "0FaL0s_pnVm2"
      }
    },
    {
      "cell_type": "code",
      "source": [],
      "metadata": {
        "id": "088elPVvnSU6"
      },
      "execution_count": null,
      "outputs": []
    }
  ]
}